{
 "cells": [
  {
   "cell_type": "code",
   "execution_count": 1,
   "metadata": {},
   "outputs": [
    {
     "name": "stdout",
     "output_type": "stream",
     "text": [
      "Collecting redis\n",
      "  Downloading redis-5.0.6-py3-none-any.whl.metadata (9.3 kB)\n",
      "Downloading redis-5.0.6-py3-none-any.whl (252 kB)\n",
      "   ---------------------------------------- 0.0/252.0 kB ? eta -:--:--\n",
      "   ---------------- ----------------------- 102.4/252.0 kB 2.0 MB/s eta 0:00:01\n",
      "   ---------------------------------------  245.8/252.0 kB 1.9 MB/s eta 0:00:01\n",
      "   ---------------------------------------  245.8/252.0 kB 1.9 MB/s eta 0:00:01\n",
      "   -------------------------------------- 252.0/252.0 kB 909.0 kB/s eta 0:00:00\n",
      "Installing collected packages: redis\n",
      "Successfully installed redis-5.0.6\n",
      "Note: you may need to restart the kernel to use updated packages.\n"
     ]
    },
    {
     "name": "stderr",
     "output_type": "stream",
     "text": [
      "\n",
      "[notice] A new release of pip is available: 23.3.2 -> 24.1\n",
      "[notice] To update, run: python.exe -m pip install --upgrade pip\n"
     ]
    }
   ],
   "source": [
    "pip install redis"
   ]
  },
  {
   "cell_type": "code",
   "execution_count": 27,
   "metadata": {},
   "outputs": [],
   "source": [
    "import redis\n",
    "\n",
    "r = redis.Redis(host='redis-15188.c299.asia-northeast1-1.gce.redns.redis-cloud.com', port=15188\n",
    "                , password=\"u7becLBIClJtmZb2AQhmDelH3vb3NIw7\")"
   ]
  },
  {
   "cell_type": "code",
   "execution_count": 11,
   "metadata": {},
   "outputs": [
    {
     "data": {
      "text/plain": [
       "True"
      ]
     },
     "execution_count": 11,
     "metadata": {},
     "output_type": "execute_result"
    }
   ],
   "source": [
    "r.set('foo', 'bar')"
   ]
  },
  {
   "cell_type": "code",
   "execution_count": 28,
   "metadata": {},
   "outputs": [
    {
     "data": {
      "text/plain": [
       "b'bar'"
      ]
     },
     "execution_count": 28,
     "metadata": {},
     "output_type": "execute_result"
    }
   ],
   "source": [
    "r.get('foo')"
   ]
  },
  {
   "cell_type": "code",
   "execution_count": 32,
   "metadata": {},
   "outputs": [
    {
     "name": "stdout",
     "output_type": "stream",
     "text": [
      "None\n"
     ]
    }
   ],
   "source": [
    "print(r.get('token'))"
   ]
  },
  {
   "cell_type": "code",
   "execution_count": 34,
   "metadata": {},
   "outputs": [
    {
     "data": {
      "text/plain": [
       "[b'RedisCompany:1', b'foo', b'RedisCompany', b'token::SimpleKey []']"
      ]
     },
     "execution_count": 34,
     "metadata": {},
     "output_type": "execute_result"
    }
   ],
   "source": [
    "r.keys()"
   ]
  },
  {
   "cell_type": "code",
   "execution_count": 58,
   "metadata": {},
   "outputs": [
    {
     "name": "stdout",
     "output_type": "stream",
     "text": [
      "b'RedisCompany:1'\n",
      "b'RedisCompany'\n",
      "b'foo'\n",
      "b'foo1'\n",
      "b'token::SimpleKey []'\n"
     ]
    }
   ],
   "source": [
    "for key in r.scan_iter():\n",
    "    print(key)"
   ]
  },
  {
   "cell_type": "code",
   "execution_count": 43,
   "metadata": {},
   "outputs": [
    {
     "data": {
      "text/plain": [
       "True"
      ]
     },
     "execution_count": 43,
     "metadata": {},
     "output_type": "execute_result"
    }
   ],
   "source": [
    "r.set('foo1', 'bar1')"
   ]
  },
  {
   "cell_type": "code",
   "execution_count": 60,
   "metadata": {},
   "outputs": [
    {
     "data": {
      "text/plain": [
       "b'{\"@class\":\"com.bigdata.newmission.domain.http.HCPTokenResponse\",\"access_token\":\"eyJhbGciOiJSUzI1NiIsImtpZCI6InByaXZhdGU6YzRjY2RlMWMtNGIzMy00YjMxLTkyZjEtNTQ4ZjY3YmRlMmNkIiwidHlwIjoiSldUIn0.eyJhdWQiOlsiaHR0cHM6Ly9hcGkuaGFzaGljb3JwLmNsb3VkIl0sImF6cCI6IldZZWFIMVBaYmd4bzBTU1IxZ1ZGbE1uSG5ZWTJINEFUIiwiZXhwIjoxNzE5MTczODI2LCJndHkiOiJjbGllbnQtY3JlZGVudGlhbHMiLCJodHRwczovL2Nsb3VkLmhhc2hpY29ycC5jb20vcHJpbmNpcGFsLXR5cGUiOiJzZXJ2aWNlIiwiaWF0IjoxNzE5MTcwMjI2LCJpc3MiOiJodHRwczovL2F1dGguaWRwLmhhc2hpY29ycC5jb20vIiwianRpIjoiMmI1YjU1MGItZGY1Yi00OTNhLTkzOTctOTQyNjVlMjRlNDU4IiwibmJmIjoxNzE5MTcwMjI2LCJzdWIiOiJzZWNyZXRzLXNhbXBsZS1hcHAtMTcxOTEzMzI0NjI0NC0zMzA5ODFAOGNmYWFkZDYtMDhlNC00NGY0LTg4ODYtMzkyYTRkNzU0ZDU5In0.bD1A0olHtuhPWGwtoo4AqUTw4spGDWVSHBSnzKg4khO2RYNXE_TzSXhlktz78CQSM71t8ckvZot0oZwCS2N5rargc4l74enL__T2-Gq9D6oYhradhAxhpvaYUWmfJqm_i1sVN_wrb3paGd-vnKsojKhSKAbSwyrZXqkqWRSQuWvLcmNiWW5voZ-WwPtum85PUgHfmADS62Dga_JU25ReHYO5d0JjGKAG-91-2Di7amPbtBT5v-Jlpae3YkJU04xr5xEakpviPLOY_C0RhXKkfH231WL6B0RruffhuD3gtowGgHKw8wWcPevVDPfdiJGekeWZOY8MCqXXtYFtgOfG5XF_swCyCSRVqOLLTXsy1ZI5d3M--2jBGhUxCLfr5AvM74UVKGQZ78GaPJNlXUhsoPRfrIvuv42j8D93Jd6q7Ayj9DphGuOxnz1KLKO4NMDXODRGg-udxU3IxyqMGiCHStPWX64lp1Bamq-UIVm_F7As94tahQdJctOf5j8Y1xcAC2w0-MGOZltczH0yg397t95sfEywHcMc3ZOwG_4100t9jzDqSKIFzguKMNL7IGqZgUzITTTxU4y_dPfcZ60Kwbc7mk0w6tcfyFzjYvdlNvghAVinaVaaJJ1GuZbCN4-rjW4F7GChjG4lgylBbGyY9RuRnRgilEOqwaW6yPnrbN8\",\"token_type\":\"Bearer\",\"expires_in\":3600}'"
      ]
     },
     "execution_count": 60,
     "metadata": {},
     "output_type": "execute_result"
    }
   ],
   "source": [
    "r.get('token::SimpleKey []')"
   ]
  }
 ],
 "metadata": {
  "kernelspec": {
   "display_name": "Python 3",
   "language": "python",
   "name": "python3"
  },
  "language_info": {
   "codemirror_mode": {
    "name": "ipython",
    "version": 3
   },
   "file_extension": ".py",
   "mimetype": "text/x-python",
   "name": "python",
   "nbconvert_exporter": "python",
   "pygments_lexer": "ipython3",
   "version": "3.12.1"
  },
  "orig_nbformat": 4
 },
 "nbformat": 4,
 "nbformat_minor": 2
}
