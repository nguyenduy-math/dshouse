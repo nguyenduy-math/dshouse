{
 "cells": [
  {
   "cell_type": "code",
   "execution_count": 2,
   "metadata": {},
   "outputs": [
    {
     "name": "stdout",
     "output_type": "stream",
     "text": [
      "projects/ilearnglc/topics/ilearnpubsub\n",
      "11537677652705180\n",
      "11568949320116481\n",
      "11569020445015276\n",
      "11568236604894660\n",
      "Published messages with ordering keys to projects/ilearnglc/topics/ilearnpubsub.\n"
     ]
    }
   ],
   "source": [
    "from google.cloud import pubsub_v1\n",
    "import os\n",
    "\n",
    "# TODO(developer): Choose an existing topic.\n",
    "project_id = \"ilearnglc\"\n",
    "topic_id = \"ilearnpubsub\"\n",
    "\n",
    "# crediential_path = \"src/main/resources/ilearnglc-9d3d347aac1f.json\"\n",
    "# os.environ['GOOGLE_APPLICATION_CREDENTIALS'] = crediential_path\n",
    "\n",
    "# publisher_options = pubsub_v1.types.PublisherOptions(enable_message_ordering=True)\n",
    "# Sending messages to the same region ensures they are received in order\n",
    "# even when multiple publishers are used.\n",
    "# client_options = {\"api_endpoint\": \"us-east1-pubsub.googleapis.com:443\"}\n",
    "# publisher = pubsub_v1.PublisherClient(\n",
    "#     publisher_options=publisher_options, client_options=client_options\n",
    "# )\n",
    "publisher = pubsub_v1.PublisherClient()\n",
    "# The `topic_path` method creates a fully qualified identifier\n",
    "# in the form `projects/{project_id}/topics/{topic_id}`\n",
    "topic_path = publisher.topic_path(project_id, topic_id)\n",
    "\n",
    "print(topic_path)\n",
    "\n",
    "for message in [\n",
    "    \"message10\",\n",
    "    \"message30\",\n",
    "    \"message40\",\n",
    "    \"message20\",\n",
    "]:\n",
    "    # Data must be a bytestring\n",
    "    data = message.encode(\"utf-8\")\n",
    "    ordering_key = message[1]\n",
    "    # When you publish a message, the client returns a future.\n",
    "    # future = publisher.publish(topic_path, data=data, ordering_key=ordering_key)\n",
    "    future = publisher.publish(topic_path, data=data)\n",
    "    print(future.result())\n",
    "\n",
    "print(f\"Published messages with ordering keys to {topic_path}.\")"
   ]
  },
  {
   "cell_type": "code",
   "execution_count": null,
   "metadata": {},
   "outputs": [],
   "source": [
    "pip install --upgrade google-cloud-pubsub"
   ]
  }
 ],
 "metadata": {
  "kernelspec": {
   "display_name": "Python 3",
   "language": "python",
   "name": "python3"
  },
  "language_info": {
   "codemirror_mode": {
    "name": "ipython",
    "version": 3
   },
   "file_extension": ".py",
   "mimetype": "text/x-python",
   "name": "python",
   "nbconvert_exporter": "python",
   "pygments_lexer": "ipython3",
   "version": "3.12.1"
  },
  "orig_nbformat": 4
 },
 "nbformat": 4,
 "nbformat_minor": 2
}
